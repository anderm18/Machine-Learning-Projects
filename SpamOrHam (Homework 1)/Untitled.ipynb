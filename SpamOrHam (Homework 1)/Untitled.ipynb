{
 "cells": [
  {
   "cell_type": "markdown",
   "id": "f16c1a34-a423-4bd0-86df-95a2aad00b44",
   "metadata": {},
   "source": [
    "__Homework 1: Logistic Regression Implementation__"
   ]
  },
  {
   "cell_type": "markdown",
   "id": "bf4bc822-bceb-4b84-9f58-f54f4c7a74b6",
   "metadata": {},
   "source": [
    "Michael Anderson (anderm18)\n",
    "\n",
    "__Task 1: Describe a machine learning problem that you would like to solve using Logistic Regression. Clearly state why Logistic regression is the best choice for solving this problem.__"
   ]
  },
  {
   "cell_type": "markdown",
   "id": "e26fdb0a-83c0-4e3c-bbb6-4db9a595d375",
   "metadata": {},
   "source": [
    "I decided to solve the problem of email spam detection. I think this is a more simple problem to solvlve as I'm completely new to this Logistic Regression stuff! Anyways, Logistic Regression is the best choice for solving this problem as it is a problem with binary solutions - Spam/Not Spam (or as some may say, Ham!). Using Linear Regression for this problem would not make much sense as we aren't trying to extrapolate a new value - like a stock prediction - we are instead trying to predict a Yes or No question."
   ]
  },
  {
   "cell_type": "markdown",
   "id": "d0d3f798-3479-46e2-8870-72cc6d7ef711",
   "metadata": {},
   "source": [
    "__Task 2: Pick a publicly available dataset (except The Titanic Dataset because we already discussed that in class) that you will use to solve this problem. You must provide a link to the dataset and perform necessary Exploratory Data Analysis (EDA). Clearly demonstrate the steps you follow for your EDA with a justification of why these were required. For example, if the dataset has lot of missing values, then why did you use a specific technique when handling missing data. This task may include data visualization (Check this link: https://www.geeksforgeeks.org/top-8-python-libraries-for-data-visualization/).__"
   ]
  },
  {
   "cell_type": "markdown",
   "id": "477a6b49-e02d-48b4-81cd-765e26b9ae6a",
   "metadata": {},
   "source": [
    "For this problem, I will be using a Public Dataset I found on Kaggle called __Email-Non-Linear-Spam__ (https://www.kaggle.com/datasets/shrutipandit707/emailnonlinearspam)"
   ]
  },
  {
   "cell_type": "code",
   "execution_count": 1,
   "id": "1bacb397-e221-4e22-b7d6-dec0d36e1c07",
   "metadata": {},
   "outputs": [
    {
     "name": "stdout",
     "output_type": "stream",
     "text": [
      "Requirement already satisfied: pandas in /home/michael/.local/lib/python3.8/site-packages (1.4.1)\n",
      "Requirement already satisfied: python-dateutil>=2.8.1 in /home/michael/.local/lib/python3.8/site-packages (from pandas) (2.8.2)\n",
      "Requirement already satisfied: numpy>=1.18.5; platform_machine != \"aarch64\" and platform_machine != \"arm64\" and python_version < \"3.10\" in /home/michael/.local/lib/python3.8/site-packages (from pandas) (1.22.2)\n",
      "Requirement already satisfied: pytz>=2020.1 in /home/michael/.local/lib/python3.8/site-packages (from pandas) (2021.3)\n",
      "Requirement already satisfied: six>=1.5 in /usr/lib/python3/dist-packages (from python-dateutil>=2.8.1->pandas) (1.14.0)\n"
     ]
    }
   ],
   "source": [
    "!pip install pandas"
   ]
  },
  {
   "cell_type": "code",
   "execution_count": 2,
   "id": "2069a596-626a-492c-8ab8-f29eb46f056a",
   "metadata": {},
   "outputs": [],
   "source": [
    "import pandas as pd"
   ]
  },
  {
   "cell_type": "code",
   "execution_count": null,
   "id": "18a276d3-6874-454f-82f8-defd713c7673",
   "metadata": {},
   "outputs": [],
   "source": []
  }
 ],
 "metadata": {
  "kernelspec": {
   "display_name": "Python 3 (ipykernel)",
   "language": "python",
   "name": "python3"
  },
  "language_info": {
   "codemirror_mode": {
    "name": "ipython",
    "version": 3
   },
   "file_extension": ".py",
   "mimetype": "text/x-python",
   "name": "python",
   "nbconvert_exporter": "python",
   "pygments_lexer": "ipython3",
   "version": "3.8.10"
  }
 },
 "nbformat": 4,
 "nbformat_minor": 5
}
